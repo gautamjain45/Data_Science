{
 "cells": [
  {
   "cell_type": "markdown",
   "id": "771488ea",
   "metadata": {},
   "source": [
    "# <font color='Red'> Problem Statement :</font>\n",
    "#### The lending company wants to understand the driving factors (or driver variables) behind loan default, i.e. the varibales which are strong indicators of default."
   ]
  },
  {
   "cell_type": "code",
   "execution_count": 2,
   "id": "193aee61",
   "metadata": {},
   "outputs": [],
   "source": [
    "import pandas as pd\n",
    "import numpy as np\n",
    "import matplotlib.pyplot as plt\n",
    "import seaborn as sns"
   ]
  },
  {
   "cell_type": "code",
   "execution_count": 5,
   "id": "d116833b",
   "metadata": {},
   "outputs": [],
   "source": [
    "# Read loan dataset from csv file\n",
    "loan_df = pd.read_csv('loan.csv',low_memory=False)"
   ]
  },
  {
   "cell_type": "code",
   "execution_count": 8,
   "id": "5d651a94",
   "metadata": {},
   "outputs": [
    {
     "data": {
      "text/plain": [
       "(39717, 111)"
      ]
     },
     "execution_count": 8,
     "metadata": {},
     "output_type": "execute_result"
    }
   ],
   "source": [
    "loan_df.shape"
   ]
  },
  {
   "cell_type": "markdown",
   "id": "8eb20b64",
   "metadata": {},
   "source": [
    "## <font color='Blue'> Filter Loan Status <font>\n",
    "<p> As the current loans are not going to help in identifying the driving factors of loan default filtering those records from the dataset"
   ]
  },
  {
   "cell_type": "code",
   "execution_count": 9,
   "id": "31659209",
   "metadata": {},
   "outputs": [],
   "source": [
    "# Remove the data with current loan status\n",
    "loan_df = loan_df[loan_df.loan_status != 'Current']"
   ]
  },
  {
   "cell_type": "code",
   "execution_count": 10,
   "id": "95dd2715",
   "metadata": {},
   "outputs": [
    {
     "data": {
      "text/plain": [
       "(38577, 111)"
      ]
     },
     "execution_count": 10,
     "metadata": {},
     "output_type": "execute_result"
    }
   ],
   "source": [
    "loan_df.shape"
   ]
  },
  {
   "cell_type": "markdown",
   "id": "a79e59db",
   "metadata": {},
   "source": [
    "## <font color='Blue'> Data Cleaning <font>\n",
    "    \n",
    "## <font color='Purple'> Removing NA / Unnecessary columns\n",
    "    \n",
    "#### Removing all NA columns"
   ]
  },
  {
   "cell_type": "code",
   "execution_count": 11,
   "id": "188703c0",
   "metadata": {},
   "outputs": [],
   "source": [
    "# Dropping columns with all NA values\n",
    "loan_df.dropna(axis=1, how='all', inplace=True)"
   ]
  },
  {
   "cell_type": "code",
   "execution_count": 13,
   "id": "2dd38709",
   "metadata": {},
   "outputs": [
    {
     "data": {
      "text/plain": [
       "(38577, 56)"
      ]
     },
     "execution_count": 13,
     "metadata": {},
     "output_type": "execute_result"
    }
   ],
   "source": [
    "loan_df.shape"
   ]
  },
  {
   "cell_type": "markdown",
   "id": "3f392046",
   "metadata": {},
   "source": [
    "#### Removing columns with more than 80% NA values as these columns do not have enough  datapoints"
   ]
  },
  {
   "cell_type": "code",
   "execution_count": 14,
   "id": "34b7401d",
   "metadata": {},
   "outputs": [],
   "source": [
    "#Dropping columns with NA values more than 80%\n",
    "loan_df.drop(list(loan_df.columns[loan_df.isna().mean() > 0.8]), axis=1, inplace=True)"
   ]
  },
  {
   "cell_type": "code",
   "execution_count": 15,
   "id": "80c35e2f",
   "metadata": {},
   "outputs": [
    {
     "data": {
      "text/plain": [
       "(38577, 55)"
      ]
     },
     "execution_count": 15,
     "metadata": {},
     "output_type": "execute_result"
    }
   ],
   "source": [
    "loan_df.shape"
   ]
  },
  {
   "cell_type": "markdown",
   "id": "d724afe0",
   "metadata": {},
   "source": [
    "#### Removing all columns with single values as any column with all the single values in it cannot contribute to any decision making for loan default"
   ]
  },
  {
   "cell_type": "code",
   "execution_count": 21,
   "id": "be824bd3",
   "metadata": {},
   "outputs": [
    {
     "data": {
      "text/plain": [
       "['pymnt_plan',\n",
       " 'initial_list_status',\n",
       " 'out_prncp',\n",
       " 'out_prncp_inv',\n",
       " 'collections_12_mths_ex_med',\n",
       " 'policy_code',\n",
       " 'application_type',\n",
       " 'acc_now_delinq',\n",
       " 'chargeoff_within_12_mths',\n",
       " 'delinq_amnt',\n",
       " 'tax_liens']"
      ]
     },
     "execution_count": 21,
     "metadata": {},
     "output_type": "execute_result"
    }
   ],
   "source": [
    "# List all columns which have single values\n",
    "singleValuedCols = [c for c in loan_df.columns if len(loan_df[c].value_counts()) == 1]\n",
    "singleValuedCols"
   ]
  },
  {
   "cell_type": "code",
   "execution_count": 25,
   "id": "d5a108e8",
   "metadata": {},
   "outputs": [
    {
     "data": {
      "text/plain": [
       "(38577, 44)"
      ]
     },
     "execution_count": 25,
     "metadata": {},
     "output_type": "execute_result"
    }
   ],
   "source": [
    "loan_df.drop(singleValuedCols, axis=1, inplace=True)\n",
    "loan_df.shape"
   ]
  },
  {
   "cell_type": "markdown",
   "id": "3bff55ea",
   "metadata": {},
   "source": [
    "#### Removing columns which do not have significant impact on the loan defaulter behaviour"
   ]
  },
  {
   "cell_type": "code",
   "execution_count": 26,
   "id": "df40069c",
   "metadata": {},
   "outputs": [
    {
     "data": {
      "text/plain": [
       "(38577, 35)"
      ]
     },
     "execution_count": 26,
     "metadata": {},
     "output_type": "execute_result"
    }
   ],
   "source": [
    "# Drop columns 'id','member_id','url','collection_recovery_fee','last_pymnt_d','installment','recoveries', 'desc', 'title'\n",
    "loan_df.drop(['id','member_id','url','collection_recovery_fee','last_pymnt_d','installment','recoveries', 'desc', 'title'], axis=1, inplace=True)\n",
    "loan_df.shape"
   ]
  },
  {
   "cell_type": "markdown",
   "id": "5427c6a6",
   "metadata": {},
   "source": [
    "## <font color='green'>Fixing Missing Values (Rows) <font>\n",
    "#### Below is the list of columns where the sum of NA values greater than zero"
   ]
  },
  {
   "cell_type": "code",
   "execution_count": null,
   "id": "779fe598",
   "metadata": {},
   "outputs": [],
   "source": []
  }
 ],
 "metadata": {
  "kernelspec": {
   "display_name": "Python 3 (ipykernel)",
   "language": "python",
   "name": "python3"
  },
  "language_info": {
   "codemirror_mode": {
    "name": "ipython",
    "version": 3
   },
   "file_extension": ".py",
   "mimetype": "text/x-python",
   "name": "python",
   "nbconvert_exporter": "python",
   "pygments_lexer": "ipython3",
   "version": "3.11.5"
  }
 },
 "nbformat": 4,
 "nbformat_minor": 5
}
